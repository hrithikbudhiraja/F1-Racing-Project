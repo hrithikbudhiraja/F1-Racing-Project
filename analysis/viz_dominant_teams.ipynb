{
 "cells": [
  {
   "cell_type": "code",
   "execution_count": 0,
   "metadata": {
    "application/vnd.databricks.v1+cell": {
     "cellMetadata": {
      "byteLimit": 2048000,
      "rowLimit": 10000
     },
     "inputWidgets": {},
     "nuid": "10c36a6b-65b5-4326-91c6-19129fd5eca8",
     "showTitle": false,
     "tableResultSettingsMap": {},
     "title": ""
    }
   },
   "outputs": [],
   "source": [
    "%python\n",
    "html = \"\"\"<h1 style=\"color:Black;text-align:center;font-family:Ariel\">Dominant Formula 1 Teams of All Time</h1>\"\"\"\n",
    "displayHTML(html)"
   ]
  },
  {
   "cell_type": "code",
   "execution_count": 0,
   "metadata": {
    "application/vnd.databricks.v1+cell": {
     "cellMetadata": {
      "byteLimit": 2048000,
      "rowLimit": 10000
     },
     "inputWidgets": {},
     "nuid": "e5d8631a-1939-461e-b79b-9ddf834d8fc4",
     "showTitle": false,
     "tableResultSettingsMap": {},
     "title": ""
    }
   },
   "outputs": [],
   "source": [
    "CREATE OR REPLACE TEMP VIEW v_dominant_teams\n",
    "AS\n",
    "SELECT team_name,\n",
    "       COUNT(1) AS total_races,\n",
    "       SUM(calculated_points) AS total_points,\n",
    "       ROUND(AVG(calculated_points),2) AS avg_points,\n",
    "       RANK() OVER(ORDER BY AVG(calculated_points) DESC) team_rank\n",
    "FROM f1_presentation.calculated_race_results\n",
    "GROUP BY team_name\n",
    "HAVING COUNT(1) >= 100\n",
    "ORDER BY avg_points DESC"
   ]
  },
  {
   "cell_type": "code",
   "execution_count": 0,
   "metadata": {
    "application/vnd.databricks.v1+cell": {
     "cellMetadata": {
      "byteLimit": 2048000,
      "rowLimit": 10000
     },
     "inputWidgets": {},
     "nuid": "0f54f833-26c6-411f-9313-fb5d6841a70e",
     "showTitle": false,
     "tableResultSettingsMap": {},
     "title": ""
    }
   },
   "outputs": [],
   "source": [
    "SELECT race_year, \n",
    "       team_name,\n",
    "       COUNT(1) AS total_races,\n",
    "       SUM(calculated_points) AS total_points,\n",
    "       ROUND(AVG(calculated_points),2) AS avg_points\n",
    "FROM f1_presentation.calculated_race_results\n",
    "WHERE team_name IN (SELECT team_name FROM v_dominant_teams WHERE team_rank <= 5)\n",
    "GROUP BY race_year, team_name\n",
    "ORDER BY race_year, avg_points DESC"
   ]
  },
  {
   "cell_type": "code",
   "execution_count": 0,
   "metadata": {
    "application/vnd.databricks.v1+cell": {
     "cellMetadata": {
      "byteLimit": 2048000,
      "rowLimit": 10000
     },
     "inputWidgets": {},
     "nuid": "810951c3-b0f3-4d01-be67-4a860bca57d1",
     "showTitle": false,
     "tableResultSettingsMap": {},
     "title": ""
    }
   },
   "outputs": [],
   "source": [
    "SELECT race_year, \n",
    "       team_name,\n",
    "       COUNT(1) AS total_races,\n",
    "       SUM(calculated_points) AS total_points,\n",
    "       ROUND(AVG(calculated_points),2) AS avg_points\n",
    "FROM f1_presentation.calculated_race_results\n",
    "WHERE team_name IN (SELECT team_name FROM v_dominant_teams WHERE team_rank <= 5)\n",
    "GROUP BY race_year, team_name\n",
    "ORDER BY race_year, avg_points DESC"
   ]
  }
 ],
 "metadata": {
  "application/vnd.databricks.v1+notebook": {
   "computePreferences": null,
   "dashboards": [],
   "environmentMetadata": {
    "base_environment": "",
    "environment_version": "2"
   },
   "language": "sql",
   "notebookMetadata": {
    "pythonIndentUnit": 4
   },
   "notebookName": "viz_dominant_teams",
   "widgets": {}
  },
  "language_info": {
   "name": "sql"
  }
 },
 "nbformat": 4,
 "nbformat_minor": 0
}
